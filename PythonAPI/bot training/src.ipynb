{
 "cells": [
  {
   "cell_type": "code",
   "execution_count": null,
   "metadata": {},
   "outputs": [],
   "source": [
    "import pandas as pd\n",
    "import numpy as np\n"
   ]
  },
  {
   "cell_type": "code",
   "execution_count": null,
   "metadata": {},
   "outputs": [],
   "source": [
    "# read learning data\n",
    "df = pd.read_csv('../csvs/learning.csv')\n",
    "\n",
    "df.head()"
   ]
  },
  {
   "cell_type": "code",
   "execution_count": null,
   "metadata": {},
   "outputs": [],
   "source": [
    "# remove rows where round_started is False\n",
    "df = df[df['round_started'] == True]\n",
    "\n",
    "# remove extra columns\n",
    "df = df.drop(['result', 'round_started', 'round_over', 'p1_Select', 'p1_Start', 'p2_Select', 'p2_Start'], axis=1)\n",
    "\n",
    "# df.head()\n"
   ]
  },
  {
   "cell_type": "code",
   "execution_count": null,
   "metadata": {},
   "outputs": [],
   "source": [
    "# get player in control\n",
    "# get first row in player column\n",
    "player = df['player'].iloc[0]\n",
    "\n",
    "if player == 1:\n",
    "    player_in_control = 'p2'\n",
    "    player_not_in_control = 'p1'\n",
    "else:\n",
    "    player_in_control = 'p1'\n",
    "    player_not_in_control = 'p2'\n",
    "\n",
    "# diff between x coordinates\n",
    "df['x_diff'] = df[player_in_control+'_x'] - df[player_not_in_control+'_x']\n",
    "# drop x coordinates\n",
    "df = df.drop([player_in_control+'_x', player_not_in_control+'_x'], axis=1)\n",
    "\n",
    "# diff between y coordinates\n",
    "df['y_diff'] = df[player_in_control+'_y'] - df[player_not_in_control+'_y']\n",
    "# drop y coordinates\n",
    "df = df.drop([player_in_control+'_y', player_not_in_control+'_y'], axis=1)\n",
    "\n",
    "# diff between health\n",
    "df['health_diff'] = df[player_in_control+'_health'] - df[player_not_in_control+'_health']\n",
    "# drop health\n",
    "df = df.drop([player_in_control+'_health', player_not_in_control+'_health'], axis=1)\n"
   ]
  },
  {
   "cell_type": "code",
   "execution_count": null,
   "metadata": {},
   "outputs": [],
   "source": [
    "df"
   ]
  },
  {
   "cell_type": "code",
   "execution_count": null,
   "metadata": {},
   "outputs": [],
   "source": [
    "# convert moves to numbers\n",
    "# get p1 moves\n",
    "# up move\n",
    "df['p1_Up'] = df['p1_Up'].astype(int)\n",
    "# down move\n",
    "df['p1_Down'] = df['p1_Down'].astype(int)\n",
    "# right move\n",
    "df['p1_Right'] = df['p1_Right'].astype(int)\n",
    "# left move\n",
    "df['p1_Left'] = df['p1_Left'].astype(int)\n",
    "# Y move\n",
    "df['p1_Y'] = df['p1_Y'].astype(int)\n",
    "# B move\n",
    "df['p1_B'] = df['p1_B'].astype(int)\n",
    "# X move\n",
    "df['p1_X'] = df['p1_X'].astype(int)\n",
    "# A move\n",
    "df['p1_A'] = df['p1_A'].astype(int)\n",
    "# L move\n",
    "df['p1_L'] = df['p1_L'].astype(int)\n",
    "# R move\n",
    "df['p1_R'] = df['p1_R'].astype(int)\n",
    "\n",
    "# get p2 moves\n",
    "# up move\n",
    "df['p2_Up'] = df['p2_Up'].astype(int)\n",
    "# down move\n",
    "df['p2_Down'] = df['p2_Down'].astype(int)\n",
    "# right move\n",
    "df['p2_Right'] = df['p2_Right'].astype(int)\n",
    "# left move\n",
    "df['p2_Left'] = df['p2_Left'].astype(int)\n",
    "# Y move\n",
    "df['p2_Y'] = df['p2_Y'].astype(int)\n",
    "# B move\n",
    "df['p2_B'] = df['p2_B'].astype(int)\n",
    "# X move\n",
    "df['p2_X'] = df['p2_X'].astype(int)\n",
    "# A move\n",
    "df['p2_A'] = df['p2_A'].astype(int)\n",
    "# L move\n",
    "df['p2_L'] = df['p2_L'].astype(int)\n",
    "# R move\n",
    "df['p2_R'] = df['p2_R'].astype(int)\n",
    "\n",
    "\n",
    "# combine moves to create unique move id with p1 moves in string\n",
    "df['p1_move'] = df['p1_Up'].astype(str) + df['p1_Down'].astype(str) + df['p1_Right'].astype(str) + df['p1_Left'].astype(str) + df['p1_Y'].astype(str) + df['p1_B'].astype(str) + df['p1_X'].astype(str) + df['p1_A'].astype(str) + df['p1_L'].astype(str) + df['p1_R'].astype(str)\n",
    "# combine moves to create unique move id with p2 moves in string\n",
    "df['p2_move'] = df['p2_Up'].astype(str) + df['p2_Down'].astype(str) + df['p2_Right'].astype(str) + df['p2_Left'].astype(str) + df['p2_Y'].astype(str) + df['p2_B'].astype(str) + df['p2_X'].astype(str) + df['p2_A'].astype(str) + df['p2_L'].astype(str) + df['p2_R'].astype(str)\n",
    "\n",
    "# drop moves\n",
    "df = df.drop(['p1_Up', 'p1_Down', 'p1_Right', 'p1_Left', 'p1_Y', 'p1_B', 'p1_X', 'p1_A', 'p1_L', 'p1_R', 'p2_Up', 'p2_Down', 'p2_Right', 'p2_Left', 'p2_Y', 'p2_B', 'p2_X', 'p2_A', 'p2_L', 'p2_R'], axis=1)\n",
    "\n",
    "# convert other columns to int\n",
    "df['timer'] = df['timer'].astype(int)\n",
    "df['p1_jumping'] = df['p1_jumping'].astype(int)\n",
    "df['p1_crouching'] = df['p1_crouching'].astype(int)\n",
    "df['p1_in_move'] = df['p1_in_move'].astype(int)\n",
    "df['p2_jumping'] = df['p2_jumping'].astype(int)\n",
    "df['p2_crouching'] = df['p2_crouching'].astype(int)\n",
    "df['p2_in_move'] = df['p2_in_move'].astype(int)\n",
    "\n",
    "# drop player column\n",
    "df = df.drop(['player'], axis=1)\n",
    "\n",
    "df"
   ]
  },
  {
   "cell_type": "code",
   "execution_count": null,
   "metadata": {},
   "outputs": [],
   "source": [
    "# !pip install tensorflow"
   ]
  },
  {
   "cell_type": "code",
   "execution_count": null,
   "metadata": {},
   "outputs": [],
   "source": [
    "# tensor flow\n",
    "# import tensorflow as tf\n"
   ]
  }
 ],
 "metadata": {
  "kernelspec": {
   "display_name": "Python 3",
   "language": "python",
   "name": "python3"
  },
  "language_info": {
   "codemirror_mode": {
    "name": "ipython",
    "version": 3
   },
   "file_extension": ".py",
   "mimetype": "text/x-python",
   "name": "python",
   "nbconvert_exporter": "python",
   "pygments_lexer": "ipython3",
   "version": "3.10.2"
  },
  "orig_nbformat": 4,
  "vscode": {
   "interpreter": {
    "hash": "369f2c481f4da34e4445cda3fffd2e751bd1c4d706f27375911949ba6bb62e1c"
   }
  }
 },
 "nbformat": 4,
 "nbformat_minor": 2
}
